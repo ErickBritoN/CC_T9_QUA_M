{
  "nbformat": 4,
  "nbformat_minor": 0,
  "metadata": {
    "colab": {
      "name": "tic-tac-toe.ipynb",
      "provenance": [],
      "collapsed_sections": []
    },
    "kernelspec": {
      "name": "python3",
      "display_name": "Python 3"
    },
    "language_info": {
      "name": "python"
    }
  },
  "cells": [
    {
      "cell_type": "markdown",
      "metadata": {
        "id": "hRzdgx8Dtjhi"
      },
      "source": [
        "# Simulação de jogo\n",
        "\n",
        "###Jogo da Velha (Tic Tac Toe)"
      ]
    },
    {
      "cell_type": "code",
      "metadata": {
        "id": "y9yo8nd5seNM"
      },
      "source": [
        "import numpy as np\n",
        "import random\n",
        "from time import sleep"
      ],
      "execution_count": null,
      "outputs": []
    },
    {
      "cell_type": "code",
      "metadata": {
        "id": "h8McU1yYvfSt"
      },
      "source": [
        "# cria o tabuleiro vazio\n",
        "def create_board():\n",
        "  return(\n",
        "      np.array([\n",
        "                [0, 0, 0],\n",
        "                [0, 0, 0],\n",
        "                [0, 0, 0]]\n",
        "               )\n",
        "  )"
      ],
      "execution_count": null,
      "outputs": []
    },
    {
      "cell_type": "code",
      "metadata": {
        "id": "usMVAk_Hvkni"
      },
      "source": [
        "# verifica se existem espaços vazios\n",
        "def possibilities(board):\n",
        "  l = []\n",
        "  for i in range(len(board)):\n",
        "    for j in range(len(board)):\n",
        "      if (board[i][j] == 0):\n",
        "        l.append((i, j))\n",
        "  return l"
      ],
      "execution_count": null,
      "outputs": []
    },
    {
      "cell_type": "code",
      "metadata": {
        "id": "ZxdsvJ0NvkrB"
      },
      "source": [
        "# escolhendo uma posição aleatória (métodos numéricos para aleatoriedade)\n",
        "def random_place(board, player):\n",
        "  selection = possibilities(board)\n",
        "  current = random.choice(selection)\n",
        "  board[current] = player\n",
        "  return board"
      ],
      "execution_count": null,
      "outputs": []
    },
    {
      "cell_type": "code",
      "metadata": {
        "id": "40_2GmTSvku4"
      },
      "source": [
        "# verificar se existe match horizontal\n",
        "def row_win(board, player):\n",
        "  for x in range(len(board)):\n",
        "    win = True\n",
        "\n",
        "    for y in range(len(board)):\n",
        "      if (board[x, y] != player):\n",
        "        win = False\n",
        "        continue\n",
        "    \n",
        "    if win == True:\n",
        "      return win\n",
        "  return win"
      ],
      "execution_count": null,
      "outputs": []
    },
    {
      "cell_type": "code",
      "metadata": {
        "id": "bHBVwZp9vkyh"
      },
      "source": [
        "# verificar se existe match vertical\n",
        "def col_win(board, player):\n",
        "  for x in range(len(board)):\n",
        "    win = True\n",
        "\n",
        "    for y in range(len(board)):\n",
        "      if board[y][x] != player:\n",
        "        win = False\n",
        "        continue\n",
        "    \n",
        "    if win == True:\n",
        "      return win\n",
        "  return win"
      ],
      "execution_count": null,
      "outputs": []
    },
    {
      "cell_type": "code",
      "metadata": {
        "id": "NLLxGvwF1K5B"
      },
      "source": [
        "# verificar se existe match diagonal\n",
        "def diag_win(board, player):\n",
        "  win = True\n",
        "  y = 0\n",
        "\n",
        "  for x in range(len(board)):\n",
        "    if board[x, x] != player:\n",
        "      win = False\n",
        "\n",
        "  if win:\n",
        "    return win\n",
        "\n",
        "  win = True\n",
        "  if win:\n",
        "    for x in range(len(board)):\n",
        "      y = len(board) -1 -x\n",
        "      if (board[x, y] != player):\n",
        "        win = False\n",
        "  return win"
      ],
      "execution_count": null,
      "outputs": []
    },
    {
      "cell_type": "code",
      "metadata": {
        "id": "lTzLNrHV2Kew"
      },
      "source": [
        "# Existe vencedor?\n",
        "def evaluate(board):\n",
        "  winner = 0\n",
        "\n",
        "  for player in [1, 2]:\n",
        "    if (row_win(board, player) or col_win(board, player) or diag_win(board, player)):\n",
        "      winner = player\n",
        "\n",
        "  if (np.all(board != 0) and winner == 0):\n",
        "    winner = -1\n",
        "  return winner"
      ],
      "execution_count": null,
      "outputs": []
    },
    {
      "cell_type": "code",
      "metadata": {
        "id": "Faavd30Z3Emj"
      },
      "source": [
        "# main\n",
        "def play_game():\n",
        "  board, winner, counter = create_board(), 0, 1\n",
        "  #print(board, \"\\n\")\n",
        "\n",
        "  while winner == 0:\n",
        "    for player in [1, 2]:\n",
        "      board = random_place(board, player)\n",
        "      #print(\"Status do tabuleiro depois do\", counter, \"° movimento\")\n",
        "      #print(board, \"\\n\")\n",
        "      #sleep(0.5) # pausa visual\n",
        "      counter += 1\n",
        "\n",
        "      winner = evaluate(board)\n",
        "      if winner != 0:\n",
        "        break\n",
        "\n",
        "  return(winner, counter-1)  "
      ],
      "execution_count": null,
      "outputs": []
    },
    {
      "cell_type": "code",
      "metadata": {
        "id": "5nxWNity4dhP"
      },
      "source": [
        "(winner, movimentos) = play_game()\n",
        "\n",
        "if (winner < 0):\n",
        "  print(\"Empatou!!!!\")\n",
        "else:  \n",
        "  print(\"O vencedor é o jogador\", winner, \"com\", movimentos, \"movimentos\")"
      ],
      "execution_count": null,
      "outputs": []
    }
  ]
}